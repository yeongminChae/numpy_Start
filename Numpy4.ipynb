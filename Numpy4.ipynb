{
  "nbformat": 4,
  "nbformat_minor": 0,
  "metadata": {
    "colab": {
      "name": "Untitled4.ipynb",
      "provenance": [],
      "authorship_tag": "ABX9TyMNI7Pb1/SKf5jrrKvC7Zel",
      "include_colab_link": true
    },
    "kernelspec": {
      "name": "python3",
      "display_name": "Python 3"
    },
    "language_info": {
      "name": "python"
    }
  },
  "cells": [
    {
      "cell_type": "markdown",
      "metadata": {
        "id": "view-in-github",
        "colab_type": "text"
      },
      "source": [
        "<a href=\"https://colab.research.google.com/github/yeongminChae/numpy_Start/blob/main/Numpy4.ipynb\" target=\"_parent\"><img src=\"https://colab.research.google.com/assets/colab-badge.svg\" alt=\"Open In Colab\"/></a>"
      ]
    },
    {
      "cell_type": "code",
      "execution_count": 1,
      "metadata": {
        "id": "adhCplwnC3SV"
      },
      "outputs": [],
      "source": [
        "import numpy as np"
      ]
    },
    {
      "cell_type": "markdown",
      "source": [
        "Section 3. N차원 배열 연산법\n",
        "\n",
        "1.   3-1. 배열의 연산 : 사칙연산/제곱/제곱근/몫/나머지\n",
        "\n"
      ],
      "metadata": {
        "id": "XSl2CN5yC35r"
      }
    },
    {
      "cell_type": "code",
      "source": [
        "arr1 = np.array([[1,2,3],\n",
        "                 [4,5,6],\n",
        "                 [7,8,9]])\n",
        "arr2 = np.array([[2,2,2],\n",
        "                 [2,2,2],\n",
        "                 [2,2,2]])\n",
        "print(arr1)\n",
        "print(arr2)"
      ],
      "metadata": {
        "id": "qXD4i9kCD36x"
      },
      "execution_count": null,
      "outputs": []
    },
    {
      "cell_type": "code",
      "source": [
        "# 덧셈\n",
        "print(arr1 + arr2)\n",
        "print(np.add(arr1,arr2))\n",
        "# 뺄셈 \n",
        "print(arr1 - arr2)\n",
        "print(np.subtract(arr1,arr2))\n",
        "#곱셈\n",
        "print(arr1 * arr2)\n",
        "print(np.multiply(arr1,arr2))\n",
        "#나눗셈\n",
        "print(arr1 / arr2)\n",
        "print(np.divide(arr1,arr2))"
      ],
      "metadata": {
        "id": "yTbt8Eh2EB1s"
      },
      "execution_count": null,
      "outputs": []
    },
    {
      "cell_type": "code",
      "source": [
        "#제곱\n",
        "arr1 = np.array([[1,2,3],\n",
        "                 [4,5,6],\n",
        "                 [7,8,9]])\n",
        "arr2 = np.array([[2,2,2],\n",
        "                 [2,2,2],\n",
        "                 [2,2,2]])\n",
        "print(arr1 ** 2)\n",
        "print(np.square(arr1))\n",
        "#제곱근\n",
        "print(np.sqrt(arr1))\n",
        "#몫\n",
        "print(arr1 // 2)\n",
        "#나머지\n",
        "print(arr1 % 2)"
      ],
      "metadata": {
        "id": "CUK8tdG9ESvT"
      },
      "execution_count": null,
      "outputs": []
    },
    {
      "cell_type": "markdown",
      "source": [
        "\n",
        "\n",
        "2.   3-2. 배열의 연산2 : 내적(dot product)/절댓값/올림/내림/반올림/버림\n",
        "\n"
      ],
      "metadata": {
        "id": "tYg0IDqWMn7b"
      }
    },
    {
      "cell_type": "code",
      "source": [
        "# 1차원 행렬\n",
        "arr1 = np.array([2,3,4])\n",
        "arr2 = np.array([1,2,3])\n",
        "print(np.dot(arr1,arr2))\n",
        "# (2*1 + 3*2 + 4*3)"
      ],
      "metadata": {
        "colab": {
          "base_uri": "https://localhost:8080/"
        },
        "id": "vRr-LZCALuKe",
        "outputId": "d8d07bca-8150-46b9-c830-1c6e7764493b"
      },
      "execution_count": 22,
      "outputs": [
        {
          "output_type": "stream",
          "name": "stdout",
          "text": [
            "20\n"
          ]
        }
      ]
    },
    {
      "cell_type": "code",
      "source": [
        "# 2차원 행렬\n",
        "# [[a,b] [e,f]    =>  [[ae + bg , af + bh]\n",
        "#  [c,d] [g,h]]   =>   [ce + dg , cf + dh]]\n",
        "\n",
        "arr1 = np.array([[1,2],\n",
        "                 [4,5]])\n",
        "arr2 = np.array([[1,2],\n",
        "                 [0,3]])\n",
        "print(np.dot(arr1,arr2))\n"
      ],
      "metadata": {
        "colab": {
          "base_uri": "https://localhost:8080/"
        },
        "id": "Vmfd7osvM_jR",
        "outputId": "dc8663de-d6de-400e-c0e8-1fcf39033fad"
      },
      "execution_count": 25,
      "outputs": [
        {
          "output_type": "stream",
          "name": "stdout",
          "text": [
            "[[ 1  8]\n",
            " [ 4 23]]\n"
          ]
        }
      ]
    },
    {
      "cell_type": "code",
      "source": [
        "# 절댓값\n",
        "arr1 = np.array([[1,-2],\n",
        "                 [-4,5]])\n",
        "print(np.abs(arr1))\n",
        "# 올림 , 내림 , 반올림 , 버림\n",
        "arr1 = np.array([[1.932,-2.339], \n",
        "                 [-4.145,5.206]])\n",
        "print(np.ceil(arr1)) #올림\n",
        "print(np.floor(arr1)) #내림\n",
        "print(np.round(arr1)) #반올림\n",
        "print(np.trunc(arr1)) #버림"
      ],
      "metadata": {
        "colab": {
          "base_uri": "https://localhost:8080/"
        },
        "id": "4hoot8ukOJZ6",
        "outputId": "14d407fd-5cee-4b67-dd2a-7284c4930833"
      },
      "execution_count": 31,
      "outputs": [
        {
          "output_type": "stream",
          "name": "stdout",
          "text": [
            "[[1 2]\n",
            " [4 5]]\n",
            "[[ 2. -2.]\n",
            " [-4.  6.]]\n",
            "[[ 1. -3.]\n",
            " [-5.  5.]]\n",
            "[[ 2. -2.]\n",
            " [-4.  5.]]\n",
            "[[ 1. -2.]\n",
            " [-4.  5.]]\n"
          ]
        }
      ]
    },
    {
      "cell_type": "markdown",
      "source": [
        "\n",
        "\n",
        "3.   3-3. 배열의 연산3 : min/max/sum/mean/std/cumsum/median\n",
        "\n"
      ],
      "metadata": {
        "id": "Dh4oYbggPrF1"
      }
    },
    {
      "cell_type": "code",
      "source": [
        "arr = np.array([[1,2,3],\n",
        "                [0,1,4]])\n",
        "\n",
        "#min\n",
        "print(np.min(arr))\n",
        "print(arr.min())\n",
        "print(arr.min(axis=0)) #세로\n",
        "print(arr.min(axis=1)) #가로"
      ],
      "metadata": {
        "id": "_q4Swg-VO25y"
      },
      "execution_count": null,
      "outputs": []
    },
    {
      "cell_type": "code",
      "source": [
        "#max\n",
        "print(np.max(arr))\n",
        "print(arr.max(axis=0))\n",
        "print(arr.max(axis=1))"
      ],
      "metadata": {
        "id": "49MX_BUyQNmr"
      },
      "execution_count": null,
      "outputs": []
    },
    {
      "cell_type": "code",
      "source": [
        "#sum\n",
        "print(np.sum(arr))\n",
        "print(arr.sum(axis=0))\n",
        "print(arr.sum(axis=1))"
      ],
      "metadata": {
        "id": "SN-qeWZuQrEU"
      },
      "execution_count": null,
      "outputs": []
    },
    {
      "cell_type": "code",
      "source": [
        "#mean(평균)\n",
        "print(np.mean(arr))\n",
        "print(arr.mean(axis=0))\n",
        "print(arr.mean(axis=1))"
      ],
      "metadata": {
        "id": "5c-HTLjUQwt0"
      },
      "execution_count": null,
      "outputs": []
    },
    {
      "cell_type": "code",
      "source": [
        "#std(표준편차)\n",
        "print(np.std(arr))\n",
        "print(arr.std(axis=0))\n",
        "print(arr.std(axis=1))"
      ],
      "metadata": {
        "id": "X0LQRBpAQ9Hx"
      },
      "execution_count": null,
      "outputs": []
    },
    {
      "cell_type": "code",
      "source": [
        "#cumsum (누적핪)\n",
        "print(np.cumsum(arr))\n",
        "print(arr.cumsum())\n",
        "print(arr.cumsum(axis=0))\n",
        "print(arr.cumsum(axis=1))"
      ],
      "metadata": {
        "id": "d_zPc8RfRO0V"
      },
      "execution_count": null,
      "outputs": []
    },
    {
      "cell_type": "code",
      "source": [
        "#median (중간값)\n",
        "print(np.median(arr))\n",
        "print(np.median(arr,axis=0))\n",
        "print(np.median(arr,axis=1))"
      ],
      "metadata": {
        "colab": {
          "base_uri": "https://localhost:8080/"
        },
        "id": "MCPDuxK_Ruw4",
        "outputId": "25a422ef-0a03-43d0-a5cc-ffada9999d82"
      },
      "execution_count": 50,
      "outputs": [
        {
          "output_type": "stream",
          "name": "stdout",
          "text": [
            "1.5\n",
            "[0.5 1.5 3.5]\n",
            "[2. 1.]\n"
          ]
        }
      ]
    },
    {
      "cell_type": "markdown",
      "source": [
        "\n",
        "\n",
        "4.   3-4. 배열의 연산4 : 비교 연산 / 삼각 함수\n",
        "\n",
        "\n",
        "\n"
      ],
      "metadata": {
        "id": "xb3mBx__UNhI"
      }
    },
    {
      "cell_type": "code",
      "source": [
        "# 비교 연산\n",
        "arr1 = np.array([[1,2,3],\n",
        "                 [4,5,6]])\n",
        "arr2 = np.array([[1,0,3],\n",
        "                 [4,-2,9]])\n",
        "print(arr1 == arr2) # 동일하면 True 다르면 False\n",
        "print(arr1 >= arr2) # 크면 True 작으면 False\n",
        "print(np.array_equal(arr1,arr2)) # 원소가다르다면 False"
      ],
      "metadata": {
        "id": "HHcvIZNGSi8c"
      },
      "execution_count": null,
      "outputs": []
    },
    {
      "cell_type": "code",
      "source": [
        "# 삼각함수\n",
        "arr = np.array([[1,2,3],\n",
        "                [4,5,6]])\n",
        "# sin\n",
        "print(np.sin(arr))\n",
        "# cos\n",
        "print(np.cos(arr))\n",
        "# tan\n",
        "print(np.tan(arr))\n",
        "# pi\n",
        "print(np.pi)"
      ],
      "metadata": {
        "id": "SwG8WV5fUxBW"
      },
      "execution_count": null,
      "outputs": []
    },
    {
      "cell_type": "markdown",
      "source": [
        "\n",
        "\n",
        "5.   3-5. 브로드캐스팅(brocasting)\n",
        "\n"
      ],
      "metadata": {
        "id": "NU50om5qVnTD"
      }
    },
    {
      "cell_type": "code",
      "source": [
        "arr1 = np.array([[0,0,0],\n",
        "                 [1,1,1],\n",
        "                 [2,2,2]])\n",
        "arr2 = np.array([[5,6,7]])\n",
        "print(arr1 + arr2)      \n",
        "\n",
        "arr1 = np.array([[1,1,1]])\n",
        "arr2 = np.array([[1]])\n",
        "print(arr1 + arr2)"
      ],
      "metadata": {
        "id": "5DjjlOJzVLha"
      },
      "execution_count": null,
      "outputs": []
    },
    {
      "cell_type": "markdown",
      "source": [
        "\n",
        "6.   3-6. 벡터 연산의 장점\n",
        "\n"
      ],
      "metadata": {
        "id": "7vGptvcRWpMx"
      }
    },
    {
      "cell_type": "code",
      "source": [
        "import time"
      ],
      "metadata": {
        "id": "M3Aiife2WK8q"
      },
      "execution_count": 61,
      "outputs": []
    },
    {
      "cell_type": "code",
      "source": [
        "arr1 = np.arange(9999999)\n",
        "arr2 = np.arange(9999999)\n",
        "before = time.time()\n",
        "sum = np.dot(arr1,arr2)\n",
        "after = time.time()\n",
        "print(f'{sum} , {after-before}초')"
      ],
      "metadata": {
        "colab": {
          "base_uri": "https://localhost:8080/"
        },
        "id": "hJ8gS39-WvpD",
        "outputId": "75f107ee-e620-4585-fd74-22452a75da6c"
      },
      "execution_count": 63,
      "outputs": [
        {
          "output_type": "stream",
          "name": "stdout",
          "text": [
            "1291790006583070911 , 0.016984939575195312초\n"
          ]
        }
      ]
    },
    {
      "cell_type": "code",
      "source": [
        "# for 문 사용시에는 연산에 1분이 넘는 시간이 소요되지만, 벡터 내적을 사용하여 연산하면 훨씬 시간을 단축 시킬 수 있다."
      ],
      "metadata": {
        "id": "YIYVgDyoYAOP"
      },
      "execution_count": null,
      "outputs": []
    }
  ]
}