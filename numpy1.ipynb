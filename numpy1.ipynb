{
  "nbformat": 4,
  "nbformat_minor": 0,
  "metadata": {
    "colab": {
      "name": "Untitled1.ipynb",
      "provenance": [],
      "authorship_tag": "ABX9TyNMvAi4bLMu0+07H3l9Ibm5",
      "include_colab_link": true
    },
    "kernelspec": {
      "name": "python3",
      "display_name": "Python 3"
    },
    "language_info": {
      "name": "python"
    }
  },
  "cells": [
    {
      "cell_type": "markdown",
      "metadata": {
        "id": "view-in-github",
        "colab_type": "text"
      },
      "source": [
        "<a href=\"https://colab.research.google.com/github/yeongminChae/numpy_Start/blob/main/numpy1.ipynb\" target=\"_parent\"><img src=\"https://colab.research.google.com/assets/colab-badge.svg\" alt=\"Open In Colab\"/></a>"
      ]
    },
    {
      "cell_type": "code",
      "execution_count": 1,
      "metadata": {
        "id": "KboX_OlvGd14"
      },
      "outputs": [],
      "source": [
        "import numpy as np"
      ]
    },
    {
      "cell_type": "code",
      "source": [
        "#1차원 배열\n",
        "arr = np.array([1,2,3] )\n",
        "print(arr)\n",
        "#2차원 배열\n",
        "arr2 = np.array([[1,2,3],\n",
        "               [4,5,6]])\n",
        "print(arr2)"
      ],
      "metadata": {
        "colab": {
          "base_uri": "https://localhost:8080/"
        },
        "id": "fy5xjTaRIQeo",
        "outputId": "ae95276e-e46e-4ebf-9428-7fad6a774cf5"
      },
      "execution_count": 5,
      "outputs": [
        {
          "output_type": "stream",
          "name": "stdout",
          "text": [
            "[1 2 3]\n",
            "[[1 2 3]\n",
            " [4 5 6]]\n"
          ]
        }
      ]
    },
    {
      "cell_type": "code",
      "source": [
        "tpl = (4,5,6)\n",
        "arr = np.array(tpl)\n",
        "print(arr)\n",
        "lst =[1,2,3]\n",
        "arr2 = np.array(lst)\n",
        "print(arr2)\n",
        "lst2=[[1,2,3],[4,5,6]]\n",
        "arr3=np.array(lst2)\n",
        "print(arr3)"
      ],
      "metadata": {
        "colab": {
          "base_uri": "https://localhost:8080/"
        },
        "id": "cNjB6_L9IrVt",
        "outputId": "1c9bf77c-95e2-495c-c048-8109a57c278b"
      },
      "execution_count": 9,
      "outputs": [
        {
          "output_type": "stream",
          "name": "stdout",
          "text": [
            "[4 5 6]\n",
            "[1 2 3]\n",
            "[[1 2 3]\n",
            " [4 5 6]]\n"
          ]
        }
      ]
    },
    {
      "cell_type": "code",
      "source": [
        "#shape\n",
        "arr1 = np.array([1,2,3])\n",
        "arr2= np.array([[1,2,3],[4,5,6]])\n",
        "print(arr1.shape,arr2.shape)\n",
        "#(2, 3) = 2행 3열 2차원 array\n",
        "\n",
        "#ndim n 차원 \n",
        "print(arr1.ndim, arr2.ndim)\n",
        "\n",
        "# size 원소 개수\n",
        "print(arr1.size, arr2.size)"
      ],
      "metadata": {
        "colab": {
          "base_uri": "https://localhost:8080/"
        },
        "id": "fSxKEIp3JJYA",
        "outputId": "379e19af-6533-4041-e7da-13f133e9394f"
      },
      "execution_count": 13,
      "outputs": [
        {
          "output_type": "stream",
          "name": "stdout",
          "text": [
            "(3,) (2, 3)\n",
            "1 2\n",
            "3 6\n"
          ]
        }
      ]
    }
  ]
}