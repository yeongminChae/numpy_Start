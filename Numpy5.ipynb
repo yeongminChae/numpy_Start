{
  "nbformat": 4,
  "nbformat_minor": 0,
  "metadata": {
    "colab": {
      "name": "Untitled5.ipynb",
      "provenance": [],
      "authorship_tag": "ABX9TyNMjAuI3+Td8r0UPKTQ5qeD",
      "include_colab_link": true
    },
    "kernelspec": {
      "name": "python3",
      "display_name": "Python 3"
    },
    "language_info": {
      "name": "python"
    }
  },
  "cells": [
    {
      "cell_type": "markdown",
      "metadata": {
        "id": "view-in-github",
        "colab_type": "text"
      },
      "source": [
        "<a href=\"https://colab.research.google.com/github/yeongminChae/numpy_Start/blob/main/Numpy5.ipynb\" target=\"_parent\"><img src=\"https://colab.research.google.com/assets/colab-badge.svg\" alt=\"Open In Colab\"/></a>"
      ]
    },
    {
      "cell_type": "code",
      "execution_count": 1,
      "metadata": {
        "id": "sSnTyhVRYnRI"
      },
      "outputs": [],
      "source": [
        "import numpy as np"
      ]
    },
    {
      "cell_type": "markdown",
      "source": [
        "## Section 4. N차원 배열 정렬\n",
        "\n",
        "1.   4-1. 1차원 배열의 정렬\n",
        "\n"
      ],
      "metadata": {
        "id": "kNtpIR4UasaC"
      }
    },
    {
      "cell_type": "code",
      "source": [
        "arr = np.random.randint(10,size=10)\n",
        "print(np.sort(arr)) # 오름차순 정리\n",
        "print(np.sort(arr)[::-1]) # 내림차순 정리"
      ],
      "metadata": {
        "id": "8GIpxa-Ja8c8"
      },
      "execution_count": null,
      "outputs": []
    },
    {
      "cell_type": "code",
      "source": [
        "arr.sort()\n",
        "print(arr) #원본 배열도 차순 정리 유지"
      ],
      "metadata": {
        "id": "mSooEIG9bC7U"
      },
      "execution_count": null,
      "outputs": []
    },
    {
      "cell_type": "markdown",
      "source": [
        "\n",
        "2.   4-2. 2차원 배열의 정렬\n",
        "\n"
      ],
      "metadata": {
        "id": "HebYAWxJbfYM"
      }
    },
    {
      "cell_type": "code",
      "source": [
        "arr=np.random.randint(15,size=(3,4))\n",
        "print(arr)"
      ],
      "metadata": {
        "colab": {
          "base_uri": "https://localhost:8080/"
        },
        "id": "DWsd2K-AbFaK",
        "outputId": "c51e8022-d771-476b-a7fb-0910df74bc0b"
      },
      "execution_count": 10,
      "outputs": [
        {
          "output_type": "stream",
          "name": "stdout",
          "text": [
            "[[ 2  8 11 11]\n",
            " [13  2 13 11]\n",
            " [14  9 14 11]]\n"
          ]
        }
      ]
    },
    {
      "cell_type": "code",
      "source": [
        "print(np.sort(arr)) # 오름차순\n",
        "print(np.sort(arr, axis=0)) \n",
        "print(np.sort(arr, axis=None)) # 2차원 배열을 1차원 배열로 정렬"
      ],
      "metadata": {
        "id": "hZU7VGTEbrp8"
      },
      "execution_count": null,
      "outputs": []
    },
    {
      "cell_type": "code",
      "source": [
        "# argsort()\n",
        "print(np.sort(arr, axis=1))\n",
        "print(np.argsort(arr, axis=1)) # 원래 배열에서의 원소의 인덱스 위치"
      ],
      "metadata": {
        "id": "p5U8hAn_b1Jj"
      },
      "execution_count": null,
      "outputs": []
    },
    {
      "cell_type": "code",
      "source": [
        "print(np.sort(arr, axis=0))\n",
        "print(np.argsort(arr, axis=0)) # 원래 배열에서의 원소의 인덱스 위치"
      ],
      "metadata": {
        "id": "6n9Wbgn7cbRd"
      },
      "execution_count": null,
      "outputs": []
    },
    {
      "cell_type": "markdown",
      "source": [
        ""
      ],
      "metadata": {
        "id": "dWq8yDzXdGrB"
      }
    },
    {
      "cell_type": "code",
      "source": [
        ""
      ],
      "metadata": {
        "id": "Wb3l-Qjycyx5"
      },
      "execution_count": null,
      "outputs": []
    }
  ]
}