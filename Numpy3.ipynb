{
  "nbformat": 4,
  "nbformat_minor": 0,
  "metadata": {
    "colab": {
      "name": "Untitled3.ipynb",
      "provenance": [],
      "authorship_tag": "ABX9TyODZ6pQPzmA6KRJZ8e+abQO",
      "include_colab_link": true
    },
    "kernelspec": {
      "name": "python3",
      "display_name": "Python 3"
    },
    "language_info": {
      "name": "python"
    }
  },
  "cells": [
    {
      "cell_type": "markdown",
      "metadata": {
        "id": "view-in-github",
        "colab_type": "text"
      },
      "source": [
        "<a href=\"https://colab.research.google.com/github/yeongminChae/numpy_Start/blob/main/Numpy3.ipynb\" target=\"_parent\"><img src=\"https://colab.research.google.com/assets/colab-badge.svg\" alt=\"Open In Colab\"/></a>"
      ]
    },
    {
      "cell_type": "code",
      "source": [
        "import numpy as np"
      ],
      "metadata": {
        "id": "PEj1N-Um7ePL"
      },
      "execution_count": 2,
      "outputs": []
    },
    {
      "cell_type": "markdown",
      "source": [
        "## section 2. N차원 배열 인덱싱\n",
        "\n",
        "1.   2-1 배열의 index 접근하기\n",
        "\n"
      ],
      "metadata": {
        "id": "Kw1BalEe7Flj"
      }
    },
    {
      "cell_type": "code",
      "execution_count": 7,
      "metadata": {
        "colab": {
          "base_uri": "https://localhost:8080/"
        },
        "id": "CXgZwg6n7Exa",
        "outputId": "8ee73ea6-022a-4c2b-d677-ca1de0d638fd"
      },
      "outputs": [
        {
          "output_type": "stream",
          "name": "stdout",
          "text": [
            "[0 1 2 3 4 5 6 7 8 9]\n",
            "[0 1 2 3 4 5 6 7 8 9]\n",
            "3\n",
            "9\n"
          ]
        }
      ],
      "source": [
        "#1차원 배열\n",
        "arr = np.array([0,1,2,3,4,5,6,7,8,9])\n",
        "arr1 = np.arange(10)\n",
        "print(arr)\n",
        "print(arr1)\n",
        "\n",
        "print(arr[3])\n",
        "print(arr[-1])"
      ]
    },
    {
      "cell_type": "code",
      "source": [
        "#2차원 배열\n",
        "arr = np.array([[1,2,3,4],\n",
        "                [5,6,7,8],\n",
        "                [9,10,11,12]])\n",
        "print(arr,arr.shape,arr.ndim)\n",
        "print(arr[0][3])\n",
        "print(arr[0,3])"
      ],
      "metadata": {
        "colab": {
          "base_uri": "https://localhost:8080/"
        },
        "id": "KwIa2PJP7hoE",
        "outputId": "462637e1-e7ac-4b12-dad1-08963102013b"
      },
      "execution_count": 13,
      "outputs": [
        {
          "output_type": "stream",
          "name": "stdout",
          "text": [
            "[[ 1  2  3  4]\n",
            " [ 5  6  7  8]\n",
            " [ 9 10 11 12]] (3, 4) 2\n",
            "4\n",
            "4\n"
          ]
        }
      ]
    },
    {
      "cell_type": "code",
      "source": [
        "arr = np.array([0,1,2,3,4,5,6,7,8,9])\n",
        "print(arr[3:8])\n",
        "print(arr[:-1])"
      ],
      "metadata": {
        "colab": {
          "base_uri": "https://localhost:8080/"
        },
        "id": "VRlRef7g8xfP",
        "outputId": "703d09f5-c9fe-44f6-9560-fdb0d05cfef6"
      },
      "execution_count": 15,
      "outputs": [
        {
          "output_type": "stream",
          "name": "stdout",
          "text": [
            "[3 4 5 6 7]\n",
            "[0 1 2 3 4 5 6 7 8]\n"
          ]
        }
      ]
    },
    {
      "cell_type": "code",
      "source": [
        "arr = np.array([[1,2,3,4],\n",
        "                [5,6,7,8],\n",
        "                [9,10,11,12]])\n",
        "print(arr[0,:])\n",
        "print(arr[:,1])"
      ],
      "metadata": {
        "colab": {
          "base_uri": "https://localhost:8080/"
        },
        "id": "46wOemoM9Swo",
        "outputId": "c5559dc3-edfd-4ac1-f4d5-dd4f82ebf081"
      },
      "execution_count": 17,
      "outputs": [
        {
          "output_type": "stream",
          "name": "stdout",
          "text": [
            "[1 2 3 4]\n",
            "[ 2  6 10]\n"
          ]
        }
      ]
    },
    {
      "cell_type": "code",
      "source": [
        "print(arr[:3,:])\n",
        "print(arr[:2,2:])"
      ],
      "metadata": {
        "colab": {
          "base_uri": "https://localhost:8080/"
        },
        "id": "8vTudRBF9yfi",
        "outputId": "5d61514f-ad82-467a-9686-8fe167e3ea4c"
      },
      "execution_count": 19,
      "outputs": [
        {
          "output_type": "stream",
          "name": "stdout",
          "text": [
            "[[ 1  2  3  4]\n",
            " [ 5  6  7  8]\n",
            " [ 9 10 11 12]]\n",
            "[[3 4]\n",
            " [7 8]]\n"
          ]
        }
      ]
    },
    {
      "cell_type": "markdown",
      "source": [
        "\n",
        "2.   2-2 배열의 fancy 인덱싱\n",
        "\n"
      ],
      "metadata": {
        "id": "XoccUuRr_saS"
      }
    },
    {
      "cell_type": "code",
      "source": [
        "# 1차원 배열\n",
        "arr = np.array([5,10,15,20,25,30])\n",
        "print(arr[[0,2,4]])"
      ],
      "metadata": {
        "colab": {
          "base_uri": "https://localhost:8080/"
        },
        "id": "53HcH7DV-bIT",
        "outputId": "47a12fee-d574-4b86-9dff-dc2facb957d1"
      },
      "execution_count": 21,
      "outputs": [
        {
          "output_type": "stream",
          "name": "stdout",
          "text": [
            "[ 5 15 25]\n"
          ]
        }
      ]
    },
    {
      "cell_type": "code",
      "source": [
        "#2차원 배열\n",
        "arr = np.array([[5,10,15,20],   #0행\n",
        "                [25,30,35,40],  #1행\n",
        "                [45,50,55,60]]) #2행\n",
        "print(arr[[0,2],2:])\n",
        "print(arr[1:,[2,3]])\n",
        "#arr([행],[열] )"
      ],
      "metadata": {
        "colab": {
          "base_uri": "https://localhost:8080/"
        },
        "id": "BWBihR9z_72l",
        "outputId": "2addfff4-85ef-4f5c-c4f2-b9ee5cb07d66"
      },
      "execution_count": 23,
      "outputs": [
        {
          "output_type": "stream",
          "name": "stdout",
          "text": [
            "[[15 20]\n",
            " [55 60]]\n",
            "[[35 40]\n",
            " [55 60]]\n"
          ]
        }
      ]
    },
    {
      "cell_type": "markdown",
      "source": [
        "\n",
        "\n",
        "\n",
        ".   2-3 배열의 Boolean 인덱싱\n",
        "\n"
      ],
      "metadata": {
        "id": "l08qTFOvBapp"
      }
    },
    {
      "cell_type": "code",
      "source": [
        "arr = np.array([1,2,3,4])\n",
        "print(arr[[True,False,True,True]])\n",
        "\n",
        "arr = np.array([[1,2,3,4],\n",
        "                [5,6,7,8]])\n",
        "print(arr[[True,False],True])"
      ],
      "metadata": {
        "colab": {
          "base_uri": "https://localhost:8080/"
        },
        "id": "iIIPyXWkAREp",
        "outputId": "ccd2d351-371b-4114-b8e6-011934c7c132"
      },
      "execution_count": 26,
      "outputs": [
        {
          "output_type": "stream",
          "name": "stdout",
          "text": [
            "[1 3 4]\n",
            "[[1 2 3 4]]\n"
          ]
        }
      ]
    },
    {
      "cell_type": "code",
      "source": [
        "arr = np.array([[1,2,3,4],\n",
        "                [5,6,7,8]])\n",
        "print(arr[arr>4])\n",
        "print(arr[arr<=2])"
      ],
      "metadata": {
        "colab": {
          "base_uri": "https://localhost:8080/"
        },
        "id": "FJsJCFJSBnk3",
        "outputId": "1fc7a25e-8d22-44f4-db35-25033deb70a1"
      },
      "execution_count": 28,
      "outputs": [
        {
          "output_type": "stream",
          "name": "stdout",
          "text": [
            "[5 6 7 8]\n",
            "[1 2]\n"
          ]
        }
      ]
    },
    {
      "cell_type": "code",
      "source": [
        ""
      ],
      "metadata": {
        "id": "Q4J-soN0CO9R"
      },
      "execution_count": null,
      "outputs": []
    }
  ]
}