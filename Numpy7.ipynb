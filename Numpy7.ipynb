{
  "nbformat": 4,
  "nbformat_minor": 0,
  "metadata": {
    "colab": {
      "name": "Untitled7.ipynb",
      "provenance": [],
      "authorship_tag": "ABX9TyN5iZDTOQ8KAeyxjDuomcPb",
      "include_colab_link": true
    },
    "kernelspec": {
      "name": "python3",
      "display_name": "Python 3"
    },
    "language_info": {
      "name": "python"
    }
  },
  "cells": [
    {
      "cell_type": "markdown",
      "metadata": {
        "id": "view-in-github",
        "colab_type": "text"
      },
      "source": [
        "<a href=\"https://colab.research.google.com/github/yeongminChae/numpy_Start/blob/main/Numpy7.ipynb\" target=\"_parent\"><img src=\"https://colab.research.google.com/assets/colab-badge.svg\" alt=\"Open In Colab\"/></a>"
      ]
    },
    {
      "cell_type": "code",
      "execution_count": 1,
      "metadata": {
        "id": "fGiCzkMbMZpL"
      },
      "outputs": [],
      "source": [
        "import numpy as np"
      ]
    },
    {
      "cell_type": "markdown",
      "source": [
        "Section 6. N차원 배열의 병합\n",
        "\n",
        "1.   6-1. 배열에 원소 추가 및 삭제\n",
        "\n"
      ],
      "metadata": {
        "id": "tLd1CdLQMkLs"
      }
    },
    {
      "cell_type": "code",
      "source": [
        "# python list \n",
        "arr = [1,2,3,4,5,6,7,8]\n",
        "arr.insert(2,50)\n",
        "print(arr)\n",
        "\n",
        "# 1차원 배열\n",
        "arr = np.arange(1,9)\n",
        "arr = np.insert(arr,2,50)\n",
        "print(arr)"
      ],
      "metadata": {
        "colab": {
          "base_uri": "https://localhost:8080/"
        },
        "id": "ew2D88IMMj3T",
        "outputId": "ef5ffd46-e20f-4c68-c1a5-4ecc8c3281b4"
      },
      "execution_count": 4,
      "outputs": [
        {
          "output_type": "stream",
          "name": "stdout",
          "text": [
            "[1, 2, 50, 3, 4, 5, 6, 7, 8]\n",
            "[ 1  2 50  3  4  5  6  7  8]\n"
          ]
        }
      ]
    },
    {
      "cell_type": "code",
      "source": [
        "# 2차원 배열\n",
        "arr = np.arange(1,13).reshape(3,4)\n",
        "arr = np.insert(arr,2,50,axis=0)\n",
        "print(arr)"
      ],
      "metadata": {
        "colab": {
          "base_uri": "https://localhost:8080/"
        },
        "id": "tIn8So9dPTpE",
        "outputId": "382c5e24-bcdb-490b-c99f-b9b351f5bd3a"
      },
      "execution_count": 9,
      "outputs": [
        {
          "output_type": "stream",
          "name": "stdout",
          "text": [
            "[[ 1  2  3  4]\n",
            " [ 5  6  7  8]\n",
            " [50 50 50 50]\n",
            " [ 9 10 11 12]]\n"
          ]
        }
      ]
    },
    {
      "cell_type": "code",
      "source": [
        "arr = np.arange(1,13).reshape(3,4)\n",
        "arr = np.insert(arr,2,50,axis=1) #axis 값을 주지 않으면 1차원 배열을 변경\n",
        "print(arr)"
      ],
      "metadata": {
        "colab": {
          "base_uri": "https://localhost:8080/"
        },
        "id": "ZL6KmXESX3H5",
        "outputId": "0484bfaf-51ab-4ce2-b99e-9907c163624c"
      },
      "execution_count": 8,
      "outputs": [
        {
          "output_type": "stream",
          "name": "stdout",
          "text": [
            "[[ 1  2 50  3  4]\n",
            " [ 5  6 50  7  8]\n",
            " [ 9 10 50 11 12]]\n"
          ]
        }
      ]
    },
    {
      "cell_type": "code",
      "source": [
        "# delete()\n",
        "arr = np.arange(1,13).reshape(3,4)\n",
        "print(arr)\n",
        "arr = np.delete(arr,2,axis=0)\n",
        "print(arr)"
      ],
      "metadata": {
        "colab": {
          "base_uri": "https://localhost:8080/"
        },
        "id": "-BIQEh8fYA6r",
        "outputId": "ab16a203-ebfa-47f0-8e11-75b343b3262a"
      },
      "execution_count": 13,
      "outputs": [
        {
          "output_type": "stream",
          "name": "stdout",
          "text": [
            "[[ 1  2  3  4]\n",
            " [ 5  6  7  8]\n",
            " [ 9 10 11 12]]\n",
            "[[1 2 3 4]\n",
            " [5 6 7 8]]\n"
          ]
        }
      ]
    },
    {
      "cell_type": "code",
      "source": [
        "arr = np.arange(1,13).reshape(3,4)\n",
        "print(arr)\n",
        "arr = np.delete(arr,2,axis=1) #axis 값을 주지 않으면 1차원 배열을 삭제\n",
        "print(arr)"
      ],
      "metadata": {
        "colab": {
          "base_uri": "https://localhost:8080/"
        },
        "id": "bcWJY-tqYIYc",
        "outputId": "674f0f5c-16ea-49d6-dcf4-9bf51b66c90c"
      },
      "execution_count": 14,
      "outputs": [
        {
          "output_type": "stream",
          "name": "stdout",
          "text": [
            "[[ 1  2  3  4]\n",
            " [ 5  6  7  8]\n",
            " [ 9 10 11 12]]\n",
            "[[ 1  2  4]\n",
            " [ 5  6  8]\n",
            " [ 9 10 12]]\n"
          ]
        }
      ]
    },
    {
      "cell_type": "markdown",
      "source": [
        "\n",
        "\n",
        "2.   6-2. 배열 간의 병합\n",
        "\n"
      ],
      "metadata": {
        "id": "R2x0jKLoYqTG"
      }
    },
    {
      "cell_type": "code",
      "source": [
        "# append()\n",
        "arr1 = np.arange(1,13).reshape(3,4)\n",
        "arr2 = np.arange(13,25).reshape(3,4)\n",
        "\n",
        "print(arr1)\n",
        "print(arr2,end='\\n\\n')\n",
        "\n",
        "# axis=0\n",
        "arr3 = np.append(arr1,arr2,axis=0)#axis 값을 주지 않으면 1차원 배열을 병합\n",
        "print(arr3,end='\\n\\n')"
      ],
      "metadata": {
        "colab": {
          "base_uri": "https://localhost:8080/"
        },
        "id": "q19V0lzAY-gm",
        "outputId": "0e64d575-9b30-4c99-dae7-636f75887c6c"
      },
      "execution_count": 16,
      "outputs": [
        {
          "output_type": "stream",
          "name": "stdout",
          "text": [
            "[[ 1  2  3  4]\n",
            " [ 5  6  7  8]\n",
            " [ 9 10 11 12]]\n",
            "[[13 14 15 16]\n",
            " [17 18 19 20]\n",
            " [21 22 23 24]]\n",
            "\n",
            "[[ 1  2  3  4]\n",
            " [ 5  6  7  8]\n",
            " [ 9 10 11 12]\n",
            " [13 14 15 16]\n",
            " [17 18 19 20]\n",
            " [21 22 23 24]]\n",
            "\n"
          ]
        }
      ]
    },
    {
      "cell_type": "code",
      "source": [
        "# axis=1\n",
        "arr3 = np.append(arr1,arr2,axis=1)\n",
        "print(arr3,end='\\n\\n')"
      ],
      "metadata": {
        "colab": {
          "base_uri": "https://localhost:8080/"
        },
        "id": "fk1yk4HhYavp",
        "outputId": "69de8f44-6be2-4738-ca5b-a052cf58245f"
      },
      "execution_count": 17,
      "outputs": [
        {
          "output_type": "stream",
          "name": "stdout",
          "text": [
            "[[ 1  2  3  4 13 14 15 16]\n",
            " [ 5  6  7  8 17 18 19 20]\n",
            " [ 9 10 11 12 21 22 23 24]]\n",
            "\n"
          ]
        }
      ]
    },
    {
      "cell_type": "code",
      "source": [
        "# vstack(), hstack()\n",
        "arr1 = np.arange(1,7).reshape(2,3)\n",
        "arr2 = np.arange(7,13).reshape(2,3)\n",
        "arr3 = np.vstack((arr1,arr2))\n",
        "print(arr3)\n",
        "arr3 = np.hstack((arr1,arr2))\n",
        "print(arr3)\n"
      ],
      "metadata": {
        "colab": {
          "base_uri": "https://localhost:8080/"
        },
        "id": "OF6CtnY4Ziiw",
        "outputId": "677858cb-04a5-4a91-b04a-0ab3eaa3bf89"
      },
      "execution_count": 21,
      "outputs": [
        {
          "output_type": "stream",
          "name": "stdout",
          "text": [
            "[[ 1  2  3]\n",
            " [ 4  5  6]\n",
            " [ 7  8  9]\n",
            " [10 11 12]]\n",
            "[[ 1  2  3  7  8  9]\n",
            " [ 4  5  6 10 11 12]]\n"
          ]
        }
      ]
    },
    {
      "cell_type": "code",
      "source": [
        "# concatenate()\n",
        "arr1 = np.arange(1,7).reshape(2,3)\n",
        "arr2 = np.arange(7,13).reshape(2,3)\n",
        "arr3 = np.concatenate([arr1,arr2], axis=0)\n",
        "print(arr3)\n",
        "arr3 = np.concatenate([arr1,arr2], axis=1)\n",
        "print(arr3)"
      ],
      "metadata": {
        "colab": {
          "base_uri": "https://localhost:8080/"
        },
        "id": "CMQ8qM7EZ3FP",
        "outputId": "e4a32099-29a5-48a0-abec-801413639606"
      },
      "execution_count": 23,
      "outputs": [
        {
          "output_type": "stream",
          "name": "stdout",
          "text": [
            "[[ 1  2  3]\n",
            " [ 4  5  6]\n",
            " [ 7  8  9]\n",
            " [10 11 12]]\n",
            "[[ 1  2  3  7  8  9]\n",
            " [ 4  5  6 10 11 12]]\n"
          ]
        }
      ]
    },
    {
      "cell_type": "markdown",
      "source": [
        "\n",
        "\n",
        "3.   6-3. 배열 분할\n",
        "\n"
      ],
      "metadata": {
        "id": "A8GK3lp9aeJW"
      }
    },
    {
      "cell_type": "code",
      "source": [
        "# 2차원 배열\n",
        "arr = np.arange(1,13).reshape(3,4)\n",
        "print(arr)\n",
        "\n",
        "#vsplit() => axis=0\n",
        "arr_vsplit=np.vsplit(arr,3) # 짝수개로 분할 시 에러발생\n",
        "print(arr_vsplit)\n",
        "\n",
        "#hsplit() => axis=1\n",
        "arr_hsplit=np.hsplit(arr,2) # 짝수개로 분할 시 에러발생\n",
        "print(arr_hsplit)\n",
        "\n"
      ],
      "metadata": {
        "colab": {
          "base_uri": "https://localhost:8080/"
        },
        "id": "ZbA0h5jkaUNr",
        "outputId": "d05244ce-d795-45b3-ce63-d1e21861d59c"
      },
      "execution_count": 29,
      "outputs": [
        {
          "output_type": "stream",
          "name": "stdout",
          "text": [
            "[[ 1  2  3  4]\n",
            " [ 5  6  7  8]\n",
            " [ 9 10 11 12]]\n",
            "[array([[1, 2, 3, 4]]), array([[5, 6, 7, 8]]), array([[ 9, 10, 11, 12]])]\n",
            "[array([[ 1,  2],\n",
            "       [ 5,  6],\n",
            "       [ 9, 10]]), array([[ 3,  4],\n",
            "       [ 7,  8],\n",
            "       [11, 12]])]\n"
          ]
        }
      ]
    },
    {
      "cell_type": "code",
      "source": [
        "# 3 차원 배열\n",
        "arr = np.random.randint(0,10,(4,6,8)) # -> 0~10 까지 숫자를 8행 6열 에 행렬을 4세트 생성\n",
        "print(arr)"
      ],
      "metadata": {
        "colab": {
          "base_uri": "https://localhost:8080/"
        },
        "id": "UvxeIEGpansZ",
        "outputId": "67188a6e-bad4-4abe-f76e-8f4ec93f6769"
      },
      "execution_count": 31,
      "outputs": [
        {
          "output_type": "stream",
          "name": "stdout",
          "text": [
            "[[[4 4 8 4 3 1 6 4]\n",
            "  [6 3 9 1 4 1 4 9]\n",
            "  [0 2 6 7 8 4 3 8]\n",
            "  [4 0 6 5 9 5 9 5]\n",
            "  [7 9 8 5 7 0 3 2]\n",
            "  [7 3 7 7 6 3 8 6]]\n",
            "\n",
            " [[5 9 6 7 5 4 0 8]\n",
            "  [1 2 6 7 9 8 4 7]\n",
            "  [8 9 5 3 7 7 6 9]\n",
            "  [3 5 5 4 3 0 5 8]\n",
            "  [9 1 7 9 6 7 6 4]\n",
            "  [5 6 3 1 9 1 2 8]]\n",
            "\n",
            " [[5 9 0 4 7 8 5 1]\n",
            "  [5 5 2 2 3 8 9 2]\n",
            "  [7 9 2 1 9 9 4 1]\n",
            "  [6 9 5 5 8 6 7 5]\n",
            "  [1 2 6 1 5 0 3 0]\n",
            "  [0 9 4 8 7 8 1 0]]\n",
            "\n",
            " [[2 6 2 4 2 7 2 4]\n",
            "  [0 4 9 9 5 9 2 2]\n",
            "  [2 5 5 0 9 7 5 6]\n",
            "  [3 0 3 2 7 0 6 0]\n",
            "  [5 9 2 4 8 8 9 6]\n",
            "  [7 6 2 6 5 5 3 4]]]\n"
          ]
        }
      ]
    },
    {
      "cell_type": "code",
      "source": [
        "arr_vsplit = np.vsplit(arr,2)\n",
        "print(arr_vsplit)"
      ],
      "metadata": {
        "colab": {
          "base_uri": "https://localhost:8080/"
        },
        "id": "AG6BdwU6cFgw",
        "outputId": "c7fe087f-a2a2-4dd5-bd94-17f194cffd30"
      },
      "execution_count": 33,
      "outputs": [
        {
          "output_type": "stream",
          "name": "stdout",
          "text": [
            "[array([[[4, 4, 8, 4, 3, 1, 6, 4],\n",
            "        [6, 3, 9, 1, 4, 1, 4, 9],\n",
            "        [0, 2, 6, 7, 8, 4, 3, 8],\n",
            "        [4, 0, 6, 5, 9, 5, 9, 5],\n",
            "        [7, 9, 8, 5, 7, 0, 3, 2],\n",
            "        [7, 3, 7, 7, 6, 3, 8, 6]],\n",
            "\n",
            "       [[5, 9, 6, 7, 5, 4, 0, 8],\n",
            "        [1, 2, 6, 7, 9, 8, 4, 7],\n",
            "        [8, 9, 5, 3, 7, 7, 6, 9],\n",
            "        [3, 5, 5, 4, 3, 0, 5, 8],\n",
            "        [9, 1, 7, 9, 6, 7, 6, 4],\n",
            "        [5, 6, 3, 1, 9, 1, 2, 8]]]), array([[[5, 9, 0, 4, 7, 8, 5, 1],\n",
            "        [5, 5, 2, 2, 3, 8, 9, 2],\n",
            "        [7, 9, 2, 1, 9, 9, 4, 1],\n",
            "        [6, 9, 5, 5, 8, 6, 7, 5],\n",
            "        [1, 2, 6, 1, 5, 0, 3, 0],\n",
            "        [0, 9, 4, 8, 7, 8, 1, 0]],\n",
            "\n",
            "       [[2, 6, 2, 4, 2, 7, 2, 4],\n",
            "        [0, 4, 9, 9, 5, 9, 2, 2],\n",
            "        [2, 5, 5, 0, 9, 7, 5, 6],\n",
            "        [3, 0, 3, 2, 7, 0, 6, 0],\n",
            "        [5, 9, 2, 4, 8, 8, 9, 6],\n",
            "        [7, 6, 2, 6, 5, 5, 3, 4]]])]\n"
          ]
        }
      ]
    },
    {
      "cell_type": "code",
      "source": [
        "arr_hsplit = np.hsplit(arr,2)\n",
        "print(arr_hsplit)"
      ],
      "metadata": {
        "colab": {
          "base_uri": "https://localhost:8080/"
        },
        "id": "x6LaSRqobz4z",
        "outputId": "04d70f41-a086-4794-d27f-2221704ee526"
      },
      "execution_count": 34,
      "outputs": [
        {
          "output_type": "stream",
          "name": "stdout",
          "text": [
            "[array([[[4, 4, 8, 4, 3, 1, 6, 4],\n",
            "        [6, 3, 9, 1, 4, 1, 4, 9],\n",
            "        [0, 2, 6, 7, 8, 4, 3, 8]],\n",
            "\n",
            "       [[5, 9, 6, 7, 5, 4, 0, 8],\n",
            "        [1, 2, 6, 7, 9, 8, 4, 7],\n",
            "        [8, 9, 5, 3, 7, 7, 6, 9]],\n",
            "\n",
            "       [[5, 9, 0, 4, 7, 8, 5, 1],\n",
            "        [5, 5, 2, 2, 3, 8, 9, 2],\n",
            "        [7, 9, 2, 1, 9, 9, 4, 1]],\n",
            "\n",
            "       [[2, 6, 2, 4, 2, 7, 2, 4],\n",
            "        [0, 4, 9, 9, 5, 9, 2, 2],\n",
            "        [2, 5, 5, 0, 9, 7, 5, 6]]]), array([[[4, 0, 6, 5, 9, 5, 9, 5],\n",
            "        [7, 9, 8, 5, 7, 0, 3, 2],\n",
            "        [7, 3, 7, 7, 6, 3, 8, 6]],\n",
            "\n",
            "       [[3, 5, 5, 4, 3, 0, 5, 8],\n",
            "        [9, 1, 7, 9, 6, 7, 6, 4],\n",
            "        [5, 6, 3, 1, 9, 1, 2, 8]],\n",
            "\n",
            "       [[6, 9, 5, 5, 8, 6, 7, 5],\n",
            "        [1, 2, 6, 1, 5, 0, 3, 0],\n",
            "        [0, 9, 4, 8, 7, 8, 1, 0]],\n",
            "\n",
            "       [[3, 0, 3, 2, 7, 0, 6, 0],\n",
            "        [5, 9, 2, 4, 8, 8, 9, 6],\n",
            "        [7, 6, 2, 6, 5, 5, 3, 4]]])]\n"
          ]
        }
      ]
    }
  ]
}