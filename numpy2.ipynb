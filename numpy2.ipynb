{
  "nbformat": 4,
  "nbformat_minor": 0,
  "metadata": {
    "colab": {
      "name": "Untitled2.ipynb",
      "provenance": [],
      "authorship_tag": "ABX9TyMn1MaaZJ2IY+lG91axELGz",
      "include_colab_link": true
    },
    "kernelspec": {
      "name": "python3",
      "display_name": "Python 3"
    },
    "language_info": {
      "name": "python"
    }
  },
  "cells": [
    {
      "cell_type": "markdown",
      "metadata": {
        "id": "view-in-github",
        "colab_type": "text"
      },
      "source": [
        "<a href=\"https://colab.research.google.com/github/yeongminChae/numpy_Start/blob/main/numpy2.ipynb\" target=\"_parent\"><img src=\"https://colab.research.google.com/assets/colab-badge.svg\" alt=\"Open In Colab\"/></a>"
      ]
    },
    {
      "cell_type": "code",
      "execution_count": null,
      "metadata": {
        "id": "RzjhhJnSKi--"
      },
      "outputs": [],
      "source": [
        "import numpy as np\n",
        "import matplotlib.pyplot as plt\n"
      ]
    },
    {
      "cell_type": "markdown",
      "source": [
        "\n",
        "## **section 1. N차원 배열 생성**\n",
        "\n",
        "\n",
        "\n"
      ],
      "metadata": {
        "id": "hMY_g7ZWPlKz"
      }
    },
    {
      "cell_type": "markdown",
      "source": [
        "1.   1-2 N차원 배열의 데이터 타입"
      ],
      "metadata": {
        "id": "Vmecp8JiZJjW"
      }
    },
    {
      "cell_type": "code",
      "source": [
        "arr = np.array([0,1,2,3])\n",
        "# print(arr, arr.dtype)\n",
        "arr = arr.astype(np.float32)\n",
        "print(arr, arr.dtype)"
      ],
      "metadata": {
        "colab": {
          "base_uri": "https://localhost:8080/"
        },
        "id": "dL6Chk97PyEb",
        "outputId": "bc108c21-dfe5-4a05-f7bb-c32fa36a37be"
      },
      "execution_count": null,
      "outputs": [
        {
          "output_type": "stream",
          "name": "stdout",
          "text": [
            "[0. 1. 2. 3.] float32\n"
          ]
        }
      ]
    },
    {
      "cell_type": "code",
      "source": [
        "#데이터 타입이 혼재하는 경우\n",
        "arr = np.array([1,2,3.4 , '64'],dtype=int)\n",
        "print(arr, arr.dtype)"
      ],
      "metadata": {
        "colab": {
          "base_uri": "https://localhost:8080/"
        },
        "id": "ziE1pim4QhnD",
        "outputId": "effb1a5c-5bb7-4646-e33b-ecb74b4cacdb"
      },
      "execution_count": null,
      "outputs": [
        {
          "output_type": "stream",
          "name": "stdout",
          "text": [
            "[ 1  2  3 64] int64\n"
          ]
        }
      ]
    },
    {
      "cell_type": "markdown",
      "source": [
        "\n",
        "2.  1-3. 정해진 형식의 N차원 배열 생성하기\n",
        "\n"
      ],
      "metadata": {
        "id": "vRXszuhxQ5Xd"
      }
    },
    {
      "cell_type": "code",
      "source": [
        "#np.zeros()\n",
        "arr=np.zeros([2,2])\n",
        "print(arr)\n",
        "#np.ones()\n",
        "arr =np.ones([3,5])\n",
        "print(arr)\n",
        "#np.full()\n",
        "arr=np.full((2,3),5)\n",
        "print(arr)\n",
        "#np.eye()\n",
        "arr = np.eye(3,4,k=1)\n",
        "print(arr)"
      ],
      "metadata": {
        "colab": {
          "base_uri": "https://localhost:8080/"
        },
        "id": "2ekO9WFdRATe",
        "outputId": "79e57e45-cacf-4eed-d521-684c0d930c02"
      },
      "execution_count": 62,
      "outputs": [
        {
          "output_type": "stream",
          "name": "stdout",
          "text": [
            "[[0. 0.]\n",
            " [0. 0.]]\n",
            "[[1. 1. 1. 1. 1.]\n",
            " [1. 1. 1. 1. 1.]\n",
            " [1. 1. 1. 1. 1.]]\n",
            "[[5 5 5]\n",
            " [5 5 5]]\n",
            "[[0. 1. 0. 0.]\n",
            " [0. 0. 1. 0.]\n",
            " [0. 0. 0. 1.]]\n"
          ]
        }
      ]
    },
    {
      "cell_type": "code",
      "source": [
        "arr=np.array([[1,2,3],\n",
        "             [4,5,6]])\n",
        "#np.zeros_like()\n",
        "arr_z=np.zeros_like(arr)\n",
        "print(arr_z)\n",
        "#np.ones_like()\n",
        "arr_0=np.ones_like(arr)\n",
        "print(arr_0)\n",
        "#np.full_like()\n",
        "arr_f=np.full_like(arr,9)\n",
        "print(arr_f)"
      ],
      "metadata": {
        "colab": {
          "base_uri": "https://localhost:8080/"
        },
        "id": "MYgYwbEQRHM5",
        "outputId": "25af4bf1-e0af-45c6-fd03-a9c039234518"
      },
      "execution_count": null,
      "outputs": [
        {
          "output_type": "stream",
          "name": "stdout",
          "text": [
            "[[0 0 0]\n",
            " [0 0 0]]\n",
            "[[1 1 1]\n",
            " [1 1 1]]\n",
            "[[9 9 9]\n",
            " [9 9 9]]\n"
          ]
        }
      ]
    },
    {
      "cell_type": "markdown",
      "source": [
        "\n",
        "3. 1-4. 특정 범위의 값을 가지는 N차원 배열 생성하기  \n",
        "\n",
        "\n",
        "\n",
        "\n",
        "\n"
      ],
      "metadata": {
        "id": "ls6IkKf_T1qN"
      }
    },
    {
      "cell_type": "code",
      "source": [
        "lst = list(range(0,9,2))\n",
        "print(lst)"
      ],
      "metadata": {
        "colab": {
          "base_uri": "https://localhost:8080/"
        },
        "id": "bZMLmpnhR7f7",
        "outputId": "c62a823f-6da1-4516-affd-3ca130face55"
      },
      "execution_count": null,
      "outputs": [
        {
          "output_type": "stream",
          "name": "stdout",
          "text": [
            "[0, 2, 4, 6, 8]\n"
          ]
        }
      ]
    },
    {
      "cell_type": "code",
      "source": [
        "arr=np.arange(9)\n",
        "print(arr)\n",
        "arr = np.arange(3,13,3) #13미만\n",
        "print(arr)"
      ],
      "metadata": {
        "colab": {
          "base_uri": "https://localhost:8080/"
        },
        "id": "yRxrM-95UDq4",
        "outputId": "d5e600a1-6c7b-42fb-f261-5b6daddaabf2"
      },
      "execution_count": null,
      "outputs": [
        {
          "output_type": "stream",
          "name": "stdout",
          "text": [
            "[0 1 2 3 4 5 6 7 8]\n",
            "[ 3  6  9 12]\n"
          ]
        }
      ]
    },
    {
      "cell_type": "code",
      "source": [
        "#np.linspace()\n",
        "arr=np.linspace(0,100,11) #100이하\n",
        "print(arr)"
      ],
      "metadata": {
        "colab": {
          "base_uri": "https://localhost:8080/"
        },
        "id": "UBd0lGBtUMRn",
        "outputId": "7ade4fb3-42e5-46ea-fb52-d262bf20d273"
      },
      "execution_count": null,
      "outputs": [
        {
          "output_type": "stream",
          "name": "stdout",
          "text": [
            "[  0.  10.  20.  30.  40.  50.  60.  70.  80.  90. 100.]\n"
          ]
        }
      ]
    },
    {
      "cell_type": "code",
      "source": [
        "#np.logspace()\n",
        "arr = np.linspace(1,10,10)\n",
        "print(arr, end=\"\\n\\n\")\n",
        "\n",
        "arr = np.logspace(1,10,10,base=2)\n",
        "print(arr)\n",
        "\n",
        "arr = np.logspace(1,10,10)\n",
        "print(arr)"
      ],
      "metadata": {
        "colab": {
          "base_uri": "https://localhost:8080/"
        },
        "id": "2_NMr4cdUtVb",
        "outputId": "6e45e3f0-562a-44f2-c57c-ce555b991bad"
      },
      "execution_count": null,
      "outputs": [
        {
          "output_type": "stream",
          "name": "stdout",
          "text": [
            "[ 1.  2.  3.  4.  5.  6.  7.  8.  9. 10.]\n",
            "\n",
            "[   2.    4.    8.   16.   32.   64.  128.  256.  512. 1024.]\n",
            "[1.e+01 1.e+02 1.e+03 1.e+04 1.e+05 1.e+06 1.e+07 1.e+08 1.e+09 1.e+10]\n"
          ]
        }
      ]
    },
    {
      "cell_type": "markdown",
      "source": [
        "\n",
        "4. 1-5. 난수를 N차원 배열 생성하기\n",
        "\n"
      ],
      "metadata": {
        "id": "vJYGQ3dEVh89"
      }
    },
    {
      "cell_type": "code",
      "source": [
        "#@title 기본 제목 텍스트\n",
        "# np.random.normal()\n",
        "# arr = np.random.normal(loc,scale,size)\n",
        "arr = np.random.normal(0,1,(2,3))\n",
        "print(arr)"
      ],
      "metadata": {
        "colab": {
          "base_uri": "https://localhost:8080/"
        },
        "cellView": "code",
        "id": "thdsRpvtVEIX",
        "outputId": "f44182ec-d647-4b28-d478-26c758da9611"
      },
      "execution_count": null,
      "outputs": [
        {
          "output_type": "stream",
          "name": "stdout",
          "text": [
            "[[-0.89095135  0.54148964 -0.21052095]\n",
            " [-1.37647437 -2.19167285 -0.58573261]]\n"
          ]
        }
      ]
    },
    {
      "cell_type": "code",
      "source": [
        "arr = arr = np.random.normal(0,1,100000)\n",
        "plt.hist(arr,bins=100) #난수 구간 지정\n",
        "plt.show()"
      ],
      "metadata": {
        "colab": {
          "base_uri": "https://localhost:8080/",
          "height": 265
        },
        "id": "6Qng5YtQWYje",
        "outputId": "f01d5337-3513-447e-adb3-9992a8535101"
      },
      "execution_count": null,
      "outputs": [
        {
          "output_type": "display_data",
          "data": {
            "image/png": "[encoded data removed]",
            "text/plain": [
              "<Figure size 432x288 with 1 Axes>"
            ]
          },
          "metadata": {
            "needs_background": "light"
          }
        }
      ]
    },
    {
      "cell_type": "code",
      "source": [
        "#np.random.rand() #균등한 비율로 추출\n",
        "arr = np.random.rand(1000)\n",
        "plt.hist(arr,bins=100)\n",
        "plt.show()"
      ],
      "metadata": {
        "colab": {
          "base_uri": "https://localhost:8080/",
          "height": 265
        },
        "id": "abvLIXItXGU_",
        "outputId": "4e471074-ac3a-44fc-a89b-9a57c74aee51"
      },
      "execution_count": null,
      "outputs": [
        {
          "output_type": "display_data",
          "data": {
            "image/png": "[encoded data removed]",
            "text/plain": [
              "<Figure size 432x288 with 1 Axes>"
            ]
          },
          "metadata": {
            "needs_background": "light"
          }
        }
      ]
    },
    {
      "cell_type": "code",
      "source": [
        "#np.random.randn() # 정규분포\n",
        "arr = np.random.randn(1000)\n",
        "plt.hist(arr,bins=100)\n",
        "plt.show()"
      ],
      "metadata": {
        "colab": {
          "base_uri": "https://localhost:8080/",
          "height": 265
        },
        "id": "pDkLvfAwXZ6g",
        "outputId": "0ebc8f8c-3c3c-4916-ec46-7b69d9f68b4b"
      },
      "execution_count": null,
      "outputs": [
        {
          "output_type": "display_data",
          "data": {
            "image/png": "[encoded data removed]",
            "text/plain": [
              "<Figure size 432x288 with 1 Axes>"
            ]
          },
          "metadata": {
            "needs_background": "light"
          }
        }
      ]
    },
    {
      "cell_type": "code",
      "source": [
        "#np.random.randint() # 랜덤한 정수만 출력\n",
        "arr = np.random.randint(low=1,high=5, size=(3,4))\n",
        "print(arr)"
      ],
      "metadata": {
        "colab": {
          "base_uri": "https://localhost:8080/"
        },
        "id": "Wq_FgrWFXgJG",
        "outputId": "df6725d0-5741-4987-b2fb-084496da4fa7"
      },
      "execution_count": null,
      "outputs": [
        {
          "output_type": "stream",
          "name": "stdout",
          "text": [
            "[[1 3 4 1]\n",
            " [2 1 1 4]\n",
            " [2 1 4 1]]\n"
          ]
        }
      ]
    },
    {
      "cell_type": "code",
      "source": [
        "arr = np.random.randint(100,200,1000)\n",
        "plt.hist(arr,bins=100)\n",
        "plt.show()"
      ],
      "metadata": {
        "colab": {
          "base_uri": "https://localhost:8080/",
          "height": 265
        },
        "id": "ucDWdDPqYMYl",
        "outputId": "b9fd9d35-bb1a-472d-c5f1-13039c18459e"
      },
      "execution_count": null,
      "outputs": [
        {
          "output_type": "display_data",
          "data": {
            "image/png": "[encoded data removed]",
            "text/plain": [
              "<Figure size 432x288 with 1 Axes>"
            ]
          },
          "metadata": {
            "needs_background": "light"
          }
        }
      ]
    },
    {
      "cell_type": "markdown",
      "source": [
        "\n",
        "6.   1-6.시드(seed)값을 통한 난수 생성제어\n",
        "\n",
        "\n"
      ],
      "metadata": {
        "id": "obmu0R48Y8cf"
      }
    },
    {
      "cell_type": "code",
      "source": [
        "arr = np.random.rand(10)\n",
        "print('난수발생1 \\n',arr)\n",
        "arr = np.random.rand(10)\n",
        "print('난수발생2 \\n',arr)"
      ],
      "metadata": {
        "id": "NHK4bCj_Yk4Y",
        "colab": {
          "base_uri": "https://localhost:8080/"
        },
        "outputId": "cc32a8fc-ed55-40c2-d5b5-38cf565a0efa"
      },
      "execution_count": 63,
      "outputs": [
        {
          "output_type": "stream",
          "name": "stdout",
          "text": [
            "난수발생1 \n",
            " [0.88834698 0.77504758 0.63360965 0.4307189  0.11818474 0.3205777\n",
            " 0.30120178 0.36287906 0.99391246 0.36145454]\n",
            "난수발생2 \n",
            " [0.26102955 0.269081   0.62410029 0.29548421 0.91123572 0.09356753\n",
            " 0.71193042 0.46880129 0.24644646 0.31563911]\n"
          ]
        }
      ]
    },
    {
      "cell_type": "code",
      "source": [
        "np.random.seed(10)\n",
        "arr = np.random.rand(10)\n",
        "print('난수발생1 \\n',arr)\n",
        "np.random.seed(10)\n",
        "arr = np.random.rand(10)\n",
        "print('난수발생2 \\n',arr)"
      ],
      "metadata": {
        "colab": {
          "base_uri": "https://localhost:8080/"
        },
        "id": "tB60CTkhcLUa",
        "outputId": "99c1d67a-fc71-4f48-c448-a3034eabad5e"
      },
      "execution_count": 65,
      "outputs": [
        {
          "output_type": "stream",
          "name": "stdout",
          "text": [
            "난수발생1 \n",
            " [0.77132064 0.02075195 0.63364823 0.74880388 0.49850701 0.22479665\n",
            " 0.19806286 0.76053071 0.16911084 0.08833981]\n",
            "난수발생2 \n",
            " [0.77132064 0.02075195 0.63364823 0.74880388 0.49850701 0.22479665\n",
            " 0.19806286 0.76053071 0.16911084 0.08833981]\n"
          ]
        }
      ]
    },
    {
      "cell_type": "code",
      "source": [
        ""
      ],
      "metadata": {
        "id": "0oklQtN7cRNB"
      },
      "execution_count": null,
      "outputs": []
    }
  ]
}