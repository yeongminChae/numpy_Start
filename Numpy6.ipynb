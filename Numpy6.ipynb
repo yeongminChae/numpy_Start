{
  "nbformat": 4,
  "nbformat_minor": 0,
  "metadata": {
    "colab": {
      "name": "Untitled6.ipynb",
      "provenance": [],
      "collapsed_sections": [],
      "authorship_tag": "ABX9TyMH2pzks6Fwnmi+RJS+x6//",
      "include_colab_link": true
    },
    "kernelspec": {
      "name": "python3",
      "display_name": "Python 3"
    },
    "language_info": {
      "name": "python"
    }
  },
  "cells": [
    {
      "cell_type": "markdown",
      "metadata": {
        "id": "view-in-github",
        "colab_type": "text"
      },
      "source": [
        "<a href=\"https://colab.research.google.com/github/yeongminChae/numpy_Start/blob/main/Numpy6.ipynb\" target=\"_parent\"><img src=\"https://colab.research.google.com/assets/colab-badge.svg\" alt=\"Open In Colab\"/></a>"
      ]
    },
    {
      "cell_type": "code",
      "execution_count": 2,
      "metadata": {
        "id": "oQBohJ98taL3"
      },
      "outputs": [],
      "source": [
        "import numpy as np"
      ]
    },
    {
      "cell_type": "markdown",
      "source": [
        "## Section 5. N차원의 배열의 형태 변경\n",
        "\n",
        "1.   5-1. 배열의 형태 변경1 : reshape()\n",
        "\n"
      ],
      "metadata": {
        "id": "SBHMZAR3tbMP"
      }
    },
    {
      "cell_type": "code",
      "source": [
        "arr = np.arange(12)\n",
        "print(arr, arr.ndim)\n",
        "\n",
        "arr = arr.reshape((3,4))\n",
        "print(arr, arr.ndim)\n",
        "\n",
        "arr = arr.reshape((2,3,2))\n",
        "print(arr, arr.ndim)\n",
        "\n",
        "arr = arr.reshape(3,-1) #-1 입력시 자동으로 4입력 \n",
        "print(arr)\n",
        "\n",
        "arr = arr.reshape(3,2,-1) # -1 대신 자동으로 2입력\n",
        "print(arr)\n"
      ],
      "metadata": {
        "colab": {
          "base_uri": "https://localhost:8080/"
        },
        "id": "WGWVeiIitlKc",
        "outputId": "c8d0ebf9-d84c-4126-b1aa-925b75d820ed"
      },
      "execution_count": null,
      "outputs": [
        {
          "output_type": "stream",
          "name": "stdout",
          "text": [
            "[ 0  1  2  3  4  5  6  7  8  9 10 11] 1\n",
            "[[ 0  1  2  3]\n",
            " [ 4  5  6  7]\n",
            " [ 8  9 10 11]] 2\n",
            "[[[ 0  1]\n",
            "  [ 2  3]\n",
            "  [ 4  5]]\n",
            "\n",
            " [[ 6  7]\n",
            "  [ 8  9]\n",
            "  [10 11]]] 3\n",
            "[[ 0  1  2  3]\n",
            " [ 4  5  6  7]\n",
            " [ 8  9 10 11]]\n",
            "[[[ 0  1]\n",
            "  [ 2  3]]\n",
            "\n",
            " [[ 4  5]\n",
            "  [ 6  7]]\n",
            "\n",
            " [[ 8  9]\n",
            "  [10 11]]]\n"
          ]
        }
      ]
    },
    {
      "cell_type": "markdown",
      "source": [
        "\n",
        "\n",
        "2.   5-1. 배열의 형태 변경2 :resize,ravel\n",
        "\n"
      ],
      "metadata": {
        "id": "CqP9jU4Fu71i"
      }
    },
    {
      "cell_type": "code",
      "source": [
        "arr=np.arange(12)\n",
        "print(arr)"
      ],
      "metadata": {
        "colab": {
          "base_uri": "https://localhost:8080/"
        },
        "id": "M9ZOig50t9Bp",
        "outputId": "0e380c10-93bb-430e-bbcf-f641342b1771"
      },
      "execution_count": null,
      "outputs": [
        {
          "output_type": "stream",
          "name": "stdout",
          "text": [
            "[ 0  1  2  3  4  5  6  7  8  9 10 11]\n"
          ]
        }
      ]
    },
    {
      "cell_type": "code",
      "source": [
        "arr.resize(3,4)\n",
        "print(arr)\n",
        "arr=arr.ravel() #1차원으로 변경\n",
        "print(arr)"
      ],
      "metadata": {
        "colab": {
          "base_uri": "https://localhost:8080/"
        },
        "id": "WpadVvcDvhNW",
        "outputId": "db4a9b0a-4027-48d8-f8d9-7da6b8a37fc8"
      },
      "execution_count": null,
      "outputs": [
        {
          "output_type": "stream",
          "name": "stdout",
          "text": [
            "[[ 0  1  2  3]\n",
            " [ 4  5  6  7]\n",
            " [ 8  9 10 11]]\n",
            "[ 0  1  2  3  4  5  6  7  8  9 10 11]\n"
          ]
        }
      ]
    },
    {
      "cell_type": "markdown",
      "source": [
        "\n",
        "\n",
        "3.   5-3.배열의 형태 변경3 : expand_dims(),squeeze()\n",
        "\n"
      ],
      "metadata": {
        "id": "_YAmJ-zTwmNV"
      }
    },
    {
      "cell_type": "code",
      "source": [
        "#expand_dims()\n",
        "arr = np.array([1,2])\n",
        "print(arr, arr.shape)\n",
        "arr = np.expand_dims(arr, axis=0) # row 값 기준\n",
        "print(arr, arr.shape)"
      ],
      "metadata": {
        "colab": {
          "base_uri": "https://localhost:8080/"
        },
        "id": "D-fgwqCjvl3t",
        "outputId": "2c6c318c-68d3-4a75-ea8a-64e05abe85f8"
      },
      "execution_count": null,
      "outputs": [
        {
          "output_type": "stream",
          "name": "stdout",
          "text": [
            "[1 2] (2,)\n",
            "[[1 2]] (1, 2)\n"
          ]
        }
      ]
    },
    {
      "cell_type": "code",
      "source": [
        "arr = np.expand_dims(arr, axis=1) # column 값 기준\n",
        "print(arr, arr.shape)"
      ],
      "metadata": {
        "colab": {
          "base_uri": "https://localhost:8080/"
        },
        "id": "fWRLsb0CxOXN",
        "outputId": "c2939404-76b3-445b-c318-673af97d546c"
      },
      "execution_count": null,
      "outputs": [
        {
          "output_type": "stream",
          "name": "stdout",
          "text": [
            "[[[1]]\n",
            "\n",
            " [[2]]] (2, 1, 1)\n"
          ]
        }
      ]
    },
    {
      "cell_type": "code",
      "source": [
        "# squeeze() # 배열의 축 하나 제거, 차원 축소 \n",
        "arr=np.array([[1,2]])\n",
        "print(arr, arr.shape, arr.ndim)\n",
        "arr = np.squeeze(arr, axis=0) # x축제거\n",
        "print(arr, arr.shape, arr.ndim)\n",
        "arr=np.array([[[1],\n",
        "               [2],\n",
        "               [3]]])\n",
        "print(arr,arr.shape,arr.ndim)\n",
        "arr=np.squeeze(arr, axis=0)\n",
        "print(arr,arr.shape, arr.ndim)"
      ],
      "metadata": {
        "colab": {
          "base_uri": "https://localhost:8080/"
        },
        "id": "lu2WHneIx6uN",
        "outputId": "054713a7-b9da-4d9d-a2ca-e20f169092b1"
      },
      "execution_count": null,
      "outputs": [
        {
          "output_type": "stream",
          "name": "stdout",
          "text": [
            "[[1 2]] (1, 2) 2\n",
            "[1 2] (2,) 1\n",
            "[[[1]\n",
            "  [2]\n",
            "  [3]]] (1, 3, 1) 3\n",
            "[[1]\n",
            " [2]\n",
            " [3]] (3, 1) 2\n"
          ]
        }
      ]
    },
    {
      "cell_type": "code",
      "source": [
        "arr=np.array([[[1,2,3]]])\n",
        "print(arr,arr.shape, arr.ndim)\n",
        "arr=np.squeeze(arr,axis=1) # y축제거\n",
        "print(arr,arr.shape, arr.ndim)\n",
        "#axis 입력하지 않으면 행령,텐서든 모든지 1차원으로 축소"
      ],
      "metadata": {
        "colab": {
          "base_uri": "https://localhost:8080/"
        },
        "id": "W4p4oRzCyPRP",
        "outputId": "bd68161b-a489-4fee-a460-d9121177daf6"
      },
      "execution_count": null,
      "outputs": [
        {
          "output_type": "stream",
          "name": "stdout",
          "text": [
            "[[[1 2 3]]] (1, 1, 3) 3\n",
            "[[1 2 3]] (1, 3) 2\n"
          ]
        }
      ]
    },
    {
      "cell_type": "markdown",
      "source": [
        "\n",
        "\n",
        "5.   5-5. 전치행렬 (transpose)\n",
        "\n"
      ],
      "metadata": {
        "id": "nqLDGTTtEKA7"
      }
    },
    {
      "cell_type": "code",
      "source": [
        "# 정반행렬 : 같은 개수의 행과 열을 가진 행렬\n",
        "\n",
        "arr = np.array([[1,2],\n",
        "                [3,4]])\n",
        "print(arr.T)\n",
        "arr = np.array([[1,2,3],\n",
        "                 [4,5,6],\n",
        "                 [7,8,9]])\n",
        "print(arr.T)"
      ],
      "metadata": {
        "id": "KJ1U8qYpz_VP",
        "colab": {
          "base_uri": "https://localhost:8080/"
        },
        "outputId": "ffaaaa73-3cfc-4e1f-f96b-365f1fd900df"
      },
      "execution_count": 5,
      "outputs": [
        {
          "output_type": "stream",
          "name": "stdout",
          "text": [
            "[[1 3]\n",
            " [2 4]]\n",
            "[[1 4 7]\n",
            " [2 5 8]\n",
            " [3 6 9]]\n"
          ]
        }
      ]
    },
    {
      "cell_type": "code",
      "source": [
        "arr = np.array([[1,2],\n",
        "                [3,4],\n",
        "                [5,6]])\n",
        "print(arr.T)\n",
        "arr2 = np.full((3,2),2)\n",
        "print(arr.dot(arr2.T))"
      ],
      "metadata": {
        "colab": {
          "base_uri": "https://localhost:8080/"
        },
        "id": "muZJWOqWGiIv",
        "outputId": "8676c82a-2640-41b6-bc65-1a11cea8a1c5"
      },
      "execution_count": 8,
      "outputs": [
        {
          "output_type": "stream",
          "name": "stdout",
          "text": [
            "[[1 3 5]\n",
            " [2 4 6]]\n",
            "[[ 6  6  6]\n",
            " [14 14 14]\n",
            " [22 22 22]]\n"
          ]
        }
      ]
    },
    {
      "cell_type": "code",
      "source": [
        ""
      ],
      "metadata": {
        "id": "1050xavhHLTn"
      },
      "execution_count": null,
      "outputs": []
    }
  ]
}