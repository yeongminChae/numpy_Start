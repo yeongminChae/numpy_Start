{
  "nbformat": 4,
  "nbformat_minor": 0,
  "metadata": {
    "colab": {
      "name": "Untitled8.ipynb",
      "provenance": [],
      "collapsed_sections": [],
      "authorship_tag": "ABX9TyPWqVyUwp3yGzGJc6BVV8p0",
      "include_colab_link": true
    },
    "kernelspec": {
      "name": "python3",
      "display_name": "Python 3"
    },
    "language_info": {
      "name": "python"
    }
  },
  "cells": [
    {
      "cell_type": "markdown",
      "metadata": {
        "id": "view-in-github",
        "colab_type": "text"
      },
      "source": [
        "<a href=\"https://colab.research.google.com/github/yeongminChae/numpy_Start/blob/main/numpy_SelfStudy.ipynb\" target=\"_parent\"><img src=\"https://colab.research.google.com/assets/colab-badge.svg\" alt=\"Open In Colab\"/></a>"
      ]
    },
    {
      "cell_type": "markdown",
      "source": [
        "numpy 자습페이지"
      ],
      "metadata": {
        "id": "-KDnxiRbgZR_"
      }
    },
    {
      "cell_type": "code",
      "execution_count": 1,
      "metadata": {
        "id": "w0bwVpNlfy-x"
      },
      "outputs": [],
      "source": [
        "import numpy as np\n",
        "import matplotlib.pyplot as plt"
      ]
    },
    {
      "cell_type": "code",
      "source": [
        "arr = np.array([0,1,2,3])\n",
        "print(arr)\n",
        "arr2 = np.array([[1,2,3],\n",
        "                 [4,5,6]])\n",
        "print(arr2)"
      ],
      "metadata": {
        "colab": {
          "base_uri": "https://localhost:8080/"
        },
        "id": "wkLXzO5YgsQA",
        "outputId": "cc0cd0f7-3b48-4ac4-a67e-79f96151904a"
      },
      "execution_count": 3,
      "outputs": [
        {
          "output_type": "stream",
          "name": "stdout",
          "text": [
            "[0 1 2 3]\n",
            "[[1 2 3]\n",
            " [4 5 6]]\n"
          ]
        }
      ]
    },
    {
      "cell_type": "code",
      "source": [
        "tpl = (4,5,6) #튜플\n",
        "arr = np.array(tpl) \n",
        "print(f'튜플 = {tpl} , arr = {arr} ') # 튜플 = (4, 5, 6) , arr = [4 5 6] \n",
        "lst = [1,2,3]\n",
        "arr2 = np.array(lst)\n",
        "print(f'리스트 = {lst} , arr2 = {arr2} ') # 리스트 = [1, 2, 3] , arr2 = [1 2 3] \n",
        "lst2 = [[1,2,3],[4,5,6]]\n",
        "arr3 = np.array(lst2)\n",
        "print(f'리스트 = {lst2} ,\\narr={arr3} ')"
      ],
      "metadata": {
        "colab": {
          "base_uri": "https://localhost:8080/"
        },
        "id": "fuI7koE5hwya",
        "outputId": "88c0cbc8-f6e6-4819-9517-1b7d93c9bb9a"
      },
      "execution_count": 13,
      "outputs": [
        {
          "output_type": "stream",
          "name": "stdout",
          "text": [
            "튜플 = (4, 5, 6) , arr = [4 5 6] \n",
            "리스트 = [1, 2, 3] , arr2 = [1 2 3] \n",
            "리스트 = [[1, 2, 3], [4, 5, 6]] ,\n",
            "arr=[[1 2 3]\n",
            " [4 5 6]] \n"
          ]
        }
      ]
    },
    {
      "cell_type": "code",
      "source": [
        "# shape = (x,y) = x행 y열\n",
        "arr1 = np.array([1,2,3])\n",
        "arr2 = np.array([[1,2,3],[4,5,6]])\n",
        "# [1,2,3] -> [(1,1) (1,2) (1,3)] ex) 1행 1열 , 1행 2열 , 1행 3열\n",
        "# [4,5,6] -> [(2,1) (2,2) (2,3)] ex) 2행 1열 , 2행 2열 , 2행 3열\n",
        "# [7,8,9] -> [(3,1) (3,2) (3,3)] ex) 3행 1열 , 3행 2열 , 3행 3열\n",
        "print(arr1.shape,arr2.shape)\n",
        "\n",
        "# ndim = n 차원\n",
        "dim1 = arr1.ndim\n",
        "dim2 = arr2.ndim\n",
        "print(f'arr1 = {dim1}차원 , arr2 = {dim2}차원 ')\n",
        "\n",
        "#size = 원소 개수\n",
        "si1 = arr1.size\n",
        "si2 = arr2.size\n",
        "print(f'arr1 원소 개수 = {si1}개 , arr2 원소 개수 = {si2}개  ') "
      ],
      "metadata": {
        "colab": {
          "base_uri": "https://localhost:8080/"
        },
        "id": "CO5H2fGSiG9J",
        "outputId": "51bdb6ab-c65f-4fce-858e-7161aaaa3b56"
      },
      "execution_count": 18,
      "outputs": [
        {
          "output_type": "stream",
          "name": "stdout",
          "text": [
            "(3,) (2, 3)\n",
            "arr1 = 1차원 , arr2 = 2차원 \n",
            "arr1 원소 개수 = 3개 , arr2 원소 개수 = 6개  \n"
          ]
        }
      ]
    },
    {
      "cell_type": "code",
      "source": [
        "# 배열의 데이터 타입\n",
        "arr = np.array([0,1,2,3])\n",
        "print(arr, arr.dtype)\n",
        "arr1 = arr.astype(np.float32) # array 데이터 타입 변형 -> astype\n",
        "print(arr1, arr1.dtype)"
      ],
      "metadata": {
        "colab": {
          "base_uri": "https://localhost:8080/"
        },
        "id": "mKgzaG9olGEa",
        "outputId": "128857c5-4230-4ee3-b283-eacd0274eb37"
      },
      "execution_count": 31,
      "outputs": [
        {
          "output_type": "stream",
          "name": "stdout",
          "text": [
            "[0 1 2 3] int64\n",
            "[0. 1. 2. 3.] float32\n"
          ]
        }
      ]
    },
    {
      "cell_type": "code",
      "source": [
        "# 데이터 타입이 혼재하는 경우\n",
        "arr1 = np.array([1,2,3,4,'5'])\n",
        "arr1_1 = np.array([1,2,3,4,'5'],dtype=int)\n",
        "arr2 = np.array([1,2,3,4,5 ])\n",
        "print(f'arr1(문자열 포함) = {arr1} #문자열로 인식 , arr2 = {arr2}')\n",
        "print(f'arr1(문자열 포함) = {arr1} , arr1_1 = {arr1_1} # dtype 함수로 int형식으로 변경')"
      ],
      "metadata": {
        "colab": {
          "base_uri": "https://localhost:8080/"
        },
        "id": "ec1y-4iLpDCu",
        "outputId": "30ab426c-6387-4273-ac40-6a95c1577e77"
      },
      "execution_count": 32,
      "outputs": [
        {
          "output_type": "stream",
          "name": "stdout",
          "text": [
            "arr1(문자열 포함) = ['1' '2' '3' '4' '5'] #문자열로 인식 , arr2 = [1 2 3 4 5]\n",
            "arr1(문자열 포함) = ['1' '2' '3' '4' '5'] , arr1_1 = [1 2 3 4 5] # dtype 함수로 int형식으로 변경\n"
          ]
        }
      ]
    },
    {
      "cell_type": "code",
      "source": [
        "# 정해진 형식의 N차원 배열 생성하기\n",
        "# np.zeors()\n",
        "arr = np.array([2,2])\n",
        "zeros = np.zeros(arr)\n",
        "print(zeros,zeros.ndim,arr.ndim)\n",
        "# np.ones()\n",
        "arr = np.array([3,5])\n",
        "ones = np.ones(arr)\n",
        "print(ones)\n",
        "# np.full()\n",
        "arr = np.full((2,3),9)\n",
        "print(arr)\n",
        "# np.eye() 대각행렬 \n",
        "arr = np.eye(3,3,k=0)\n",
        "print(arr)"
      ],
      "metadata": {
        "colab": {
          "base_uri": "https://localhost:8080/"
        },
        "id": "WdKmT65hqkUD",
        "outputId": "f15c5bcb-f2c7-40c3-d621-87d983c0d7f7"
      },
      "execution_count": 49,
      "outputs": [
        {
          "output_type": "stream",
          "name": "stdout",
          "text": [
            "[[0. 0.]\n",
            " [0. 0.]] 2 1\n",
            "[[1. 1. 1. 1. 1.]\n",
            " [1. 1. 1. 1. 1.]\n",
            " [1. 1. 1. 1. 1.]]\n",
            "[[9 9 9]\n",
            " [9 9 9]]\n",
            "[[1. 0. 0.]\n",
            " [0. 1. 0.]\n",
            " [0. 0. 1.]]\n"
          ]
        }
      ]
    },
    {
      "cell_type": "code",
      "source": [
        "arr = np.array([[1,2,3],\n",
        "                [4,5,6]]) \n",
        "# np.zeros_like()\n",
        "arr_z = np.zeros_like(arr)\n",
        "print(arr_z)\n",
        "# np.ones_like()\n",
        "arr_0 = np.ones_like(arr)\n",
        "print(arr_0)\n",
        "# np.full_like()\n",
        "arr_f = np.full_like(arr,9)\n",
        "print(arr_f)"
      ],
      "metadata": {
        "colab": {
          "base_uri": "https://localhost:8080/"
        },
        "id": "DsPA5FyHt0eI",
        "outputId": "96af1de9-5416-4cfb-f3a4-46774ef80f7b"
      },
      "execution_count": 55,
      "outputs": [
        {
          "output_type": "stream",
          "name": "stdout",
          "text": [
            "[[0 0 0]\n",
            " [0 0 0]]\n",
            "[[1 1 1]\n",
            " [1 1 1]]\n",
            "[[9 9 9]\n",
            " [9 9 9]]\n"
          ]
        }
      ]
    },
    {
      "cell_type": "code",
      "source": [
        "lst = list(range(0,9,2))\n",
        "print(lst)\n",
        "arr = np.arange(9)\n",
        "print(arr)\n",
        "arr = np.arange(3,13,3)\n",
        "print(arr)"
      ],
      "metadata": {
        "colab": {
          "base_uri": "https://localhost:8080/"
        },
        "id": "KryEcK7uxbEj",
        "outputId": "9f085929-fc40-4f39-ab46-f4711b5fcd56"
      },
      "execution_count": 58,
      "outputs": [
        {
          "output_type": "stream",
          "name": "stdout",
          "text": [
            "[0, 2, 4, 6, 8]\n",
            "[0 1 2 3 4 5 6 7 8]\n",
            "[ 3  6  9 12]\n"
          ]
        }
      ]
    },
    {
      "cell_type": "code",
      "source": [
        "# np.linspace()\n",
        "arr = np.linspace(1,10,10)\n",
        "print(arr, end='\\n\\n')\n",
        "arr = np.logspace(1,10,10,base=2)\n",
        "print(arr)\n",
        "arr = np.logspace(1,10,10)\n",
        "print(arr)"
      ],
      "metadata": {
        "colab": {
          "base_uri": "https://localhost:8080/"
        },
        "id": "8mclUL6yzJZL",
        "outputId": "e1b692c8-2d6a-4bbc-cc79-be50e7dc93f4"
      },
      "execution_count": 66,
      "outputs": [
        {
          "output_type": "stream",
          "name": "stdout",
          "text": [
            "[ 1.  2.  3.  4.  5.  6.  7.  8.  9. 10.]\n",
            "\n",
            "[   2.    4.    8.   16.   32.   64.  128.  256.  512. 1024.]\n",
            "[1.e+01 1.e+02 1.e+03 1.e+04 1.e+05 1.e+06 1.e+07 1.e+08 1.e+09 1.e+10]\n"
          ]
        }
      ]
    },
    {
      "cell_type": "code",
      "source": [
        "np.random.normal()\n",
        "# arr = np.random.normal(loc,scale,size)\n",
        "arr = np.random.normal(0,1,(2,3))\n",
        "print(arr)"
      ],
      "metadata": {
        "colab": {
          "base_uri": "https://localhost:8080/"
        },
        "id": "g1TdfttG04r-",
        "outputId": "a9d1c86e-b6cf-4e6e-8998-704fe4a45970"
      },
      "execution_count": 68,
      "outputs": [
        {
          "output_type": "stream",
          "name": "stdout",
          "text": [
            "[[-2.63963552  0.77868733 -0.59117468]\n",
            " [-0.02696873  1.11455808  2.25558159]]\n"
          ]
        }
      ]
    },
    {
      "cell_type": "code",
      "source": [
        "arr = np.random.normal(0,1,100000)\n",
        "plt.hist(arr,bins=100)\n",
        "plt.show()"
      ],
      "metadata": {
        "colab": {
          "base_uri": "https://localhost:8080/",
          "height": 265
        },
        "id": "oXUYQNb22MIs",
        "outputId": "04509fd5-7bce-4b16-cb75-d53daab5f024"
      },
      "execution_count": 73,
      "outputs": [
        {
          "output_type": "display_data",
          "data": {
            "image/png": "[encoded data removed]",
            "text/plain": [
              "<Figure size 432x288 with 1 Axes>"
            ]
          },
          "metadata": {
            "needs_background": "light"
          }
        }
      ]
    },
    {
      "cell_type": "code",
      "source": [
        "arr = np.random.rand(1000)\n",
        "plt.hist(arr,bins=100)\n",
        "plt.show"
      ],
      "metadata": {
        "colab": {
          "base_uri": "https://localhost:8080/",
          "height": 282
        },
        "id": "0CS6rhj-6rkd",
        "outputId": "1a8f7de7-ba2f-44ce-b91b-5052c71df08e"
      },
      "execution_count": 74,
      "outputs": [
        {
          "output_type": "execute_result",
          "data": {
            "text/plain": [
              "<function matplotlib.pyplot.show>"
            ]
          },
          "metadata": {},
          "execution_count": 74
        },
        {
          "output_type": "display_data",
          "data": {
            "image/png": "[encoded data removed]",
            "text/plain": [
              "<Figure size 432x288 with 1 Axes>"
            ]
          },
          "metadata": {
            "needs_background": "light"
          }
        }
      ]
    },
    {
      "cell_type": "code",
      "source": [
        "np.random.randn()\n",
        "arr = np.random.randn(1000)\n",
        "plt.hist(arr,bins=100)\n",
        "plt.show()"
      ],
      "metadata": {
        "colab": {
          "base_uri": "https://localhost:8080/",
          "height": 265
        },
        "id": "Yu4X5BAc68aS",
        "outputId": "c3294db8-350f-4845-a58f-1cf3b9d4bf1e"
      },
      "execution_count": 75,
      "outputs": [
        {
          "output_type": "display_data",
          "data": {
            "image/png": "[encoded data removed]",
            "text/plain": [
              "<Figure size 432x288 with 1 Axes>"
            ]
          },
          "metadata": {
            "needs_background": "light"
          }
        }
      ]
    },
    {
      "cell_type": "code",
      "source": [
        "np.random.seed(10)\n",
        "arr = np.randon.rand(10)\n",
        "print(f'난수발생1 \\n{arr}')"
      ],
      "metadata": {
        "id": "Rx8MmlOg9qC6"
      },
      "execution_count": null,
      "outputs": []
    },
    {
      "cell_type": "code",
      "source": [
        "# 1차원 배열\n",
        "arr = np.array([0,1,2,3,4,5,6,7,8,9])\n",
        "arr1 = np.arange(10)\n",
        "print(arr)\n",
        "print(arr1)\n",
        "print(arr[3])\n",
        "print(arr[-1])\n"
      ],
      "metadata": {
        "colab": {
          "base_uri": "https://localhost:8080/"
        },
        "id": "B0Wg5jEj96zy",
        "outputId": "c2ab408b-6adc-46cf-8518-1cf721b5d2cf"
      },
      "execution_count": 79,
      "outputs": [
        {
          "output_type": "stream",
          "name": "stdout",
          "text": [
            "[0 1 2 3 4 5 6 7 8 9]\n",
            "[0 1 2 3 4 5 6 7 8 9]\n",
            "3\n",
            "9\n"
          ]
        }
      ]
    },
    {
      "cell_type": "code",
      "source": [
        "# 2차원 배열\n",
        "arr = np.array([[1,2,3,4],    # 0\n",
        "               [5,6,7,8],     # 1\n",
        "               [9,10,11,12]]) # 2\n",
        "# print(arr,arr.shape,arr.ndim)\n",
        "print(arr[0][3])\n",
        "print(arr[0,3])\n",
        "print(arr[1,2])"
      ],
      "metadata": {
        "colab": {
          "base_uri": "https://localhost:8080/"
        },
        "id": "UzBJlqHa-Xmt",
        "outputId": "a50a00ef-8d95-4142-9a6a-ecdcb555ceb9"
      },
      "execution_count": 83,
      "outputs": [
        {
          "output_type": "stream",
          "name": "stdout",
          "text": [
            "4\n",
            "4\n",
            "7\n"
          ]
        }
      ]
    },
    {
      "cell_type": "code",
      "source": [
        "arr = np.array([0,1,2,3,4,5,6,7,8,9])\n",
        "# print(arr[3:8])\n",
        "# print(arr[:-1])\n",
        "arr = np.array([[1,2,3,4],\n",
        "                [5,6,7,8],\n",
        "                [9,10,11,12]])\n",
        "# print(arr[0,:])\n",
        "# print(arr[:,-1])\n",
        "print(arr[:3,:])\n",
        "print(arr[:2,2:])"
      ],
      "metadata": {
        "colab": {
          "base_uri": "https://localhost:8080/"
        },
        "id": "9twyoEHA-rLS",
        "outputId": "a5cedc48-d040-4791-9fc3-cbfa11f4eeaf"
      },
      "execution_count": 91,
      "outputs": [
        {
          "output_type": "stream",
          "name": "stdout",
          "text": [
            "[[ 1  2  3  4]\n",
            " [ 5  6  7  8]\n",
            " [ 9 10 11 12]]\n",
            "[[3 4]\n",
            " [7 8]]\n"
          ]
        }
      ]
    },
    {
      "cell_type": "code",
      "source": [
        "# 1차원 배열\n",
        "arr = np.array([5,10,15,20,25,30])\n",
        "print(arr[[0,2,4]])"
      ],
      "metadata": {
        "colab": {
          "base_uri": "https://localhost:8080/",
          "height": 198
        },
        "id": "HYXvb_zuClHm",
        "outputId": "f400d363-9173-402b-a609-f851a0d05fcf"
      },
      "execution_count": 96,
      "outputs": [
        {
          "output_type": "error",
          "ename": "IndexError",
          "evalue": "ignored",
          "traceback": [
            "\u001b[0;31m---------------------------------------------------------------------------\u001b[0m",
            "\u001b[0;31mIndexError\u001b[0m                                Traceback (most recent call last)",
            "\u001b[0;32m<ipython-input-96-4af75e342cbe>\u001b[0m in \u001b[0;36m<module>\u001b[0;34m()\u001b[0m\n\u001b[1;32m      1\u001b[0m \u001b[0;31m# 1차원 배열\u001b[0m\u001b[0;34m\u001b[0m\u001b[0;34m\u001b[0m\u001b[0;34m\u001b[0m\u001b[0m\n\u001b[1;32m      2\u001b[0m \u001b[0marr\u001b[0m \u001b[0;34m=\u001b[0m \u001b[0mnp\u001b[0m\u001b[0;34m.\u001b[0m\u001b[0marray\u001b[0m\u001b[0;34m(\u001b[0m\u001b[0;34m[\u001b[0m\u001b[0;36m5\u001b[0m\u001b[0;34m,\u001b[0m\u001b[0;36m10\u001b[0m\u001b[0;34m,\u001b[0m\u001b[0;36m15\u001b[0m\u001b[0;34m,\u001b[0m\u001b[0;36m20\u001b[0m\u001b[0;34m,\u001b[0m\u001b[0;36m25\u001b[0m\u001b[0;34m,\u001b[0m\u001b[0;36m30\u001b[0m\u001b[0;34m]\u001b[0m\u001b[0;34m)\u001b[0m\u001b[0;34m\u001b[0m\u001b[0;34m\u001b[0m\u001b[0m\n\u001b[0;32m----> 3\u001b[0;31m \u001b[0mprint\u001b[0m\u001b[0;34m(\u001b[0m\u001b[0marr\u001b[0m\u001b[0;34m[\u001b[0m\u001b[0;36m0\u001b[0m\u001b[0;34m,\u001b[0m\u001b[0;36m2\u001b[0m\u001b[0;34m,\u001b[0m\u001b[0;36m4\u001b[0m\u001b[0;34m]\u001b[0m\u001b[0;34m)\u001b[0m\u001b[0;34m\u001b[0m\u001b[0;34m\u001b[0m\u001b[0m\n\u001b[0m",
            "\u001b[0;31mIndexError\u001b[0m: too many indices for array: array is 1-dimensional, but 3 were indexed"
          ]
        }
      ]
    },
    {
      "cell_type": "code",
      "source": [
        "# 2차원 배열\n",
        "arr = np.array([[5,10,15,20],   # 0 \n",
        "                [25,30,35,40],  # 1\n",
        "                [45,50,55,60]]) # 2\n",
        "print(arr[[0,2],2:]) # [0,2]-> 0번째와 1번째 행렬에서 , {2} 번째 인덱스부터\n",
        "print(arr[1:,[2,3]]) # 1: 1번째 행렬부터 ,{2},{3}번 인덱스\n"
      ],
      "metadata": {
        "colab": {
          "base_uri": "https://localhost:8080/"
        },
        "id": "7ff8j9-I_syC",
        "outputId": "a990af35-78a1-44d5-bc6e-312d473e93a5"
      },
      "execution_count": 94,
      "outputs": [
        {
          "output_type": "stream",
          "name": "stdout",
          "text": [
            "[[15 20]\n",
            " [55 60]]\n",
            "[[35 40]\n",
            " [55 60]]\n"
          ]
        }
      ]
    },
    {
      "cell_type": "code",
      "source": [
        "arr = np.array([1,2,3,4])\n",
        "print([[True,False,True,True]])\n",
        "arr = np.array([[1,2,3,4],\n",
        "                [5,6,7,8]])\n",
        "print(arr[[True,False],True])"
      ],
      "metadata": {
        "colab": {
          "base_uri": "https://localhost:8080/"
        },
        "id": "hznEkLlkEsd7",
        "outputId": "284ed409-23a4-4c7e-f8f7-d7f99d6bc871"
      },
      "execution_count": 99,
      "outputs": [
        {
          "output_type": "stream",
          "name": "stdout",
          "text": [
            "[[True, False, True, True]]\n",
            "[[1 2 3 4]]\n"
          ]
        }
      ]
    },
    {
      "cell_type": "code",
      "source": [
        "arr = np.array([[1,2,3,4],\n",
        "                [5,6,7,8]])\n",
        "print(arr[arr>4])\n",
        "print(arr[arr<=2])"
      ],
      "metadata": {
        "colab": {
          "base_uri": "https://localhost:8080/"
        },
        "id": "jlprN8ysCWBZ",
        "outputId": "b4de7066-729f-4511-c10d-a900f7fa2155"
      },
      "execution_count": 100,
      "outputs": [
        {
          "output_type": "stream",
          "name": "stdout",
          "text": [
            "[5 6 7 8]\n",
            "[1 2]\n"
          ]
        }
      ]
    },
    {
      "cell_type": "code",
      "source": [
        ""
      ],
      "metadata": {
        "id": "o6ggd4fiFbeL"
      },
      "execution_count": null,
      "outputs": []
    }
  ]
}